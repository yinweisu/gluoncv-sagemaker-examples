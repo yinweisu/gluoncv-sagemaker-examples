{
 "cells": [
  {
   "cell_type": "markdown",
   "metadata": {},
   "source": [
    "# GluonCV Object Detection - AWS Marketplace Model Package\n",
    "\n",
    "This tutorial walks you through the fundamental usage of GluonCV object detection models in AWS Marketplace.\n"
   ]
  },
  {
   "cell_type": "markdown",
   "metadata": {},
   "source": [
    "## Essential Sagemaker imports"
   ]
  },
  {
   "cell_type": "code",
   "execution_count": 1,
   "metadata": {},
   "outputs": [],
   "source": [
    "import sagemaker as sage\n",
    "import os\n",
    "import boto3\n",
    "from sagemaker import get_execution_role\n",
    "from sagemaker import transformer\n",
    "from sagemaker import model\n",
    "\n",
    "role = get_execution_role()"
   ]
  },
  {
   "cell_type": "markdown",
   "metadata": {},
   "source": [
    "##  Create the session"
   ]
  },
  {
   "cell_type": "code",
   "execution_count": 2,
   "metadata": {},
   "outputs": [
    {
     "data": {
      "text/plain": [
       "'us-west-2'"
      ]
     },
     "execution_count": 2,
     "metadata": {},
     "output_type": "execute_result"
    }
   ],
   "source": [
    "sess = sage.Session()\n",
    "\n",
    "account = sess.boto_session.client('sts').get_caller_identity()['Account']\n",
    "region = sess.boto_session.region_name\n",
    "region"
   ]
  },
  {
   "cell_type": "markdown",
   "metadata": {},
   "source": [
    "## Subscribe to the model\n",
    "\n",
    "Before you can deploy the model, your account needs to be subscribed to it.\n",
    "\n",
    "- Open the Model Package listing page and search for GluonCV image classification models .\n",
    "- Read the product overview section and Highlights section to understand the value proposition of our model package.\n",
    "- View usage information and then additional resources sections. \n",
    "- Click on Continue to Subscribe button & then Click on \"Accept Offer\" button on the next page.\n",
    "- Next, Continue to Configuration button becomes activated and when you click on the button, you will see that a Product Arn will appear.\n",
    "- You have successfully subscribed to our model package. You can find it in your SageMaker console. Keep record of the model package arn you have subscribed to.\n",
    "- Close the page and continue executing this notebook."
   ]
  },
  {
   "cell_type": "code",
   "execution_count": 3,
   "metadata": {},
   "outputs": [],
   "source": [
    "modelpackage_arn = 'arn:aws:sagemaker:us-west-2:985964311364:model-package/gluoncv-yolo3-darknet53-coco-1600288930'"
   ]
  },
  {
   "cell_type": "markdown",
   "metadata": {},
   "source": [
    "## Create Model"
   ]
  },
  {
   "cell_type": "code",
   "execution_count": 4,
   "metadata": {},
   "outputs": [
    {
     "name": "stderr",
     "output_type": "stream",
     "text": [
      "Parameter image will be renamed to image_uri in SageMaker Python SDK v2.\n"
     ]
    }
   ],
   "source": [
    "from sagemaker import ModelPackage\n",
    "\n",
    "def predict_wrapper(endpoint, session):\n",
    "    return sage.RealTimePredictor(endpoint, session, content_type='image/jpeg')\n",
    "\n",
    "# Create a deployable model\n",
    "model = ModelPackage(role=role,\n",
    "                     model_package_arn = modelpackage_arn,\n",
    "                     sagemaker_session = sess,\n",
    "                     predictor_cls = predict_wrapper)\n",
    "endpoint_name = 'gluoncv-yolov3'"
   ]
  },
  {
   "cell_type": "markdown",
   "metadata": {},
   "source": [
    "## Create live Inference Endpoint\n",
    "\n",
    "Now that we have the model created, we can launch the live inference endpoint, this may take a while in the background."
   ]
  },
  {
   "cell_type": "code",
   "execution_count": 5,
   "metadata": {},
   "outputs": [
    {
     "name": "stdout",
     "output_type": "stream",
     "text": [
      "-----------!"
     ]
    }
   ],
   "source": [
    "predictor = model.deploy(1, 'ml.m4.xlarge', endpoint_name=endpoint_name)"
   ]
  },
  {
   "cell_type": "markdown",
   "metadata": {},
   "source": [
    "## Let's grab some demo images for inference"
   ]
  },
  {
   "cell_type": "code",
   "execution_count": 6,
   "metadata": {},
   "outputs": [
    {
     "name": "stdout",
     "output_type": "stream",
     "text": [
      "--2020-09-16 21:06:37--  https://github.com/zhreshold/gluoncv-sagemaker-examples/raw/master/examples/input/playground.jpg\n",
      "Resolving github.com (github.com)... 192.30.255.112\n",
      "Connecting to github.com (github.com)|192.30.255.112|:443... connected.\n",
      "HTTP request sent, awaiting response... 302 Found\n",
      "Location: https://raw.githubusercontent.com/zhreshold/gluoncv-sagemaker-examples/master/examples/input/playground.jpg [following]\n",
      "--2020-09-16 21:06:37--  https://raw.githubusercontent.com/zhreshold/gluoncv-sagemaker-examples/master/examples/input/playground.jpg\n",
      "Resolving raw.githubusercontent.com (raw.githubusercontent.com)... 151.101.52.133\n",
      "Connecting to raw.githubusercontent.com (raw.githubusercontent.com)|151.101.52.133|:443... connected.\n",
      "HTTP request sent, awaiting response... 200 OK\n",
      "Length: 195229 (191K) [image/jpeg]\n",
      "Saving to: ‘test.jpg’\n",
      "\n",
      "test.jpg            100%[===================>] 190.65K  --.-KB/s    in 0.03s   \n",
      "\n",
      "2020-09-16 21:06:37 (7.35 MB/s) - ‘test.jpg’ saved [195229/195229]\n",
      "\n"
     ]
    }
   ],
   "source": [
    "!wget https://github.com/zhreshold/gluoncv-sagemaker-examples/raw/master/examples/input/playground.jpg -O test.jpg"
   ]
  },
  {
   "cell_type": "markdown",
   "metadata": {},
   "source": [
    "We can perform a typical object detection task with the live endpoint by posting the raw image data"
   ]
  },
  {
   "cell_type": "code",
   "execution_count": 7,
   "metadata": {},
   "outputs": [
    {
     "name": "stdout",
     "output_type": "stream",
     "text": [
      "[{\"id\": \"person\", \"score\": 0.9748764038085938, \"left\": 106, \"top\": 46, \"right\": 128, \"bottom\": 92}, {\"id\": \"person\", \"score\": 0.9437488913536072, \"left\": 508, \"top\": 114, \"right\": 603, \"bottom\": 272}, {\"id\": \"person\", \"score\": 0.9360765814781189, \"left\": 164, \"top\": 80, \"right\": 200, \"bottom\": 166}, {\"id\": \"person\", \"score\": 0.9176429510116577, \"left\": 414, \"top\": 86, \"right\": 511, \"bottom\": 282}, {\"id\": \"person\", \"score\": 0.9088366627693176, \"left\": 332, \"top\": 37, \"right\": 350, \"bottom\": 80}, {\"id\": \"person\", \"score\": 0.7969743609428406, \"left\": 366, \"top\": 58, \"right\": 385, \"bottom\": 112}, {\"id\": \"person\", \"score\": 0.7222182154655457, \"left\": 276, \"top\": 84, \"right\": 301, \"bottom\": 168}, {\"id\": \"person\", \"score\": 0.7201529741287231, \"left\": 353, \"top\": 47, \"right\": 370, \"bottom\": 96}, {\"id\": \"person\", \"score\": 0.7141261696815491, \"left\": 383, \"top\": 39, \"right\": 399, \"bottom\": 83}, {\"id\": \"person\", \"score\": 0.7052568793296814, \"left\": 469, \"top\": 14, \"right\": 476, \"bottom\": 33}, {\"id\": \"person\", \"score\": 0.6702104210853577, \"left\": 590, \"top\": 112, \"right\": 617, \"bottom\": 175}, {\"id\": \"person\", \"score\": 0.5007995963096619, \"left\": 156, \"top\": 118, \"right\": 181, \"bottom\": 164}, {\"id\": \"kite\", \"score\": 0.4229380190372467, \"left\": 159, \"top\": 107, \"right\": 514, \"bottom\": 338}, {\"id\": \"person\", \"score\": 0.3519873321056366, \"left\": 171, \"top\": 48, \"right\": 180, \"bottom\": 60}, {\"id\": \"backpack\", \"score\": 0.26570579409599304, \"left\": 66, \"top\": 134, \"right\": 85, \"bottom\": 152}, {\"id\": \"person\", \"score\": 0.24377058446407318, \"left\": 189, \"top\": 44, \"right\": 201, \"bottom\": 61}, {\"id\": \"chair\", \"score\": 0.19250087440013885, \"left\": 78, \"top\": 120, \"right\": 102, \"bottom\": 154}, {\"id\": \"backpack\", \"score\": 0.19229306280612946, \"left\": 57, \"top\": 152, \"right\": 98, \"bottom\": 172}, {\"id\": \"backpack\", \"score\": 0.1835269033908844, \"left\": 99, \"top\": 153, \"right\": 120, \"bottom\": 167}, {\"id\": \"chair\", \"score\": 0.17464898526668549, \"left\": 99, \"top\": 129, \"right\": 118, \"bottom\": 156}, {\"id\": \"person\", \"score\": 0.17276950180530548, \"left\": 270, \"top\": 90, \"right\": 289, \"bottom\": 166}, {\"id\": \"person\", \"score\": 0.1366235315799713, \"left\": 26, \"top\": 115, \"right\": 61, \"bottom\": 151}, {\"id\": \"kite\", \"score\": 0.12031640857458115, \"left\": 369, \"top\": 160, \"right\": 621, \"bottom\": 203}, {\"id\": \"handbag\", \"score\": 0.11069276183843613, \"left\": 66, \"top\": 134, \"right\": 85, \"bottom\": 152}, {\"id\": \"handbag\", \"score\": 0.107323557138443, \"left\": 99, \"top\": 153, \"right\": 120, \"bottom\": 167}, {\"id\": \"person\", \"score\": 0.1024164929986, \"left\": 592, \"top\": 25, \"right\": 599, \"bottom\": 32}]\n"
     ]
    }
   ],
   "source": [
    "file_name = 'test.jpg'\n",
    "# Open the file and read the image into a bytearray.\n",
    "with open(file_name, \"rb\") as image:\n",
    "  b = bytearray(image.read())\n",
    "\n",
    "# Perform a prediction\n",
    "result = predictor.predict(b).decode('utf-8')\n",
    "\n",
    "with open(\"output.json\", \"w\") as text_file:\n",
    "    text_file.write(result)\n",
    "    \n",
    "# View the prediction\n",
    "print(result)"
   ]
  },
  {
   "cell_type": "markdown",
   "metadata": {},
   "source": [
    "##  Delete the Endpoint\n",
    "\n",
    "Now that you have successfully performed a real-time inference, you do not need the endpoint any more. you can terminate the same to avoid being charged."
   ]
  },
  {
   "cell_type": "code",
   "execution_count": 27,
   "metadata": {},
   "outputs": [],
   "source": [
    "predictor = sage.RealTimePredictor(endpoint_name, sess, content_type='image/jpeg')\n",
    "predictor.delete_endpoint(delete_endpoint_config=True)"
   ]
  }
 ],
 "metadata": {
  "kernelspec": {
   "display_name": "conda_python3",
   "language": "python",
   "name": "conda_python3"
  },
  "language_info": {
   "codemirror_mode": {
    "name": "ipython",
    "version": 3
   },
   "file_extension": ".py",
   "mimetype": "text/x-python",
   "name": "python",
   "nbconvert_exporter": "python",
   "pygments_lexer": "ipython3",
   "version": "3.6.10"
  }
 },
 "nbformat": 4,
 "nbformat_minor": 4
}
